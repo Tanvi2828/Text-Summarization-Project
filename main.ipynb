{
 "cells": [
  {
   "cell_type": "code",
   "execution_count": 14,
   "metadata": {},
   "outputs": [
    {
     "name": "stdout",
     "output_type": "stream",
     "text": [
      "Original Text:\n",
      "\n",
      "Artificial Intelligence (AI) is transforming the way we live and work. \n",
      "With applications ranging from healthcare to finance, AI-powered tools \n",
      "are making life easier and businesses more efficient. Despite the hype, \n",
      "it also raises ethical concerns and challenges related to job displacement \n",
      "and decision-making transparency. Governments and organizations must \n",
      "address these issues to ensure responsible AI development.\n",
      "\n",
      "\n",
      "Extractive Summary (Using TF-IDF and SpaCy):\n",
      "Despite the hype, \n",
      "it also raises ethical concerns and challenges related to job displacement \n",
      "and decision-making transparency. With applications ranging from healthcare to finance, AI-powered tools \n",
      "are making life easier and businesses more efficient.\n",
      "\n",
      "Abstractive Summary (Using BART):\n",
      "WARNING:tensorflow:From c:\\Users\\Tanvi\\AppData\\Local\\Programs\\Python\\Python312\\Lib\\site-packages\\tf_keras\\src\\losses.py:2976: The name tf.losses.sparse_softmax_cross_entropy is deprecated. Please use tf.compat.v1.losses.sparse_softmax_cross_entropy instead.\n",
      "\n"
     ]
    },
    {
     "data": {
      "application/vnd.jupyter.widget-view+json": {
       "model_id": "977df220c5424cea90c3523d4e4a04bd",
       "version_major": 2,
       "version_minor": 0
      },
      "text/plain": [
       "model.safetensors:   0%|          | 0.00/1.63G [00:00<?, ?B/s]"
      ]
     },
     "metadata": {},
     "output_type": "display_data"
    },
    {
     "data": {
      "application/vnd.jupyter.widget-view+json": {
       "model_id": "af4adddf3ac340a6b623d832a60b7192",
       "version_major": 2,
       "version_minor": 0
      },
      "text/plain": [
       "generation_config.json:   0%|          | 0.00/363 [00:00<?, ?B/s]"
      ]
     },
     "metadata": {},
     "output_type": "display_data"
    },
    {
     "data": {
      "application/vnd.jupyter.widget-view+json": {
       "model_id": "227befebdff34d46bf39508283035bac",
       "version_major": 2,
       "version_minor": 0
      },
      "text/plain": [
       "vocab.json:   0%|          | 0.00/899k [00:00<?, ?B/s]"
      ]
     },
     "metadata": {},
     "output_type": "display_data"
    },
    {
     "data": {
      "application/vnd.jupyter.widget-view+json": {
       "model_id": "26c95d3c0afc42539971f416de70763a",
       "version_major": 2,
       "version_minor": 0
      },
      "text/plain": [
       "merges.txt:   0%|          | 0.00/456k [00:00<?, ?B/s]"
      ]
     },
     "metadata": {},
     "output_type": "display_data"
    },
    {
     "data": {
      "application/vnd.jupyter.widget-view+json": {
       "model_id": "078c5c468d724c9ea1bfe873fed78bc3",
       "version_major": 2,
       "version_minor": 0
      },
      "text/plain": [
       "tokenizer.json:   0%|          | 0.00/1.36M [00:00<?, ?B/s]"
      ]
     },
     "metadata": {},
     "output_type": "display_data"
    },
    {
     "name": "stdout",
     "output_type": "stream",
     "text": [
      "Artificial Intelligence (AI) is transforming the way we live and work. Despite the hype, it also raises ethical concerns and challenges related to job displacement. Governments and organizations must address these issues to ensure responsible AI development.\n"
     ]
    }
   ],
   "source": [
    "import spacy\n",
    "from transformers import pipeline\n",
    "from sklearn.feature_extraction.text import TfidfVectorizer\n",
    "import numpy as np\n",
    "\n",
    "# Load SpaCy's small English model\n",
    "nlp = spacy.load(\"en_core_web_sm\")\n",
    "\n",
    "# Sample text\n",
    "sample_text = \"\"\"\n",
    "Artificial Intelligence (AI) is transforming the way we live and work. \n",
    "With applications ranging from healthcare to finance, AI-powered tools \n",
    "are making life easier and businesses more efficient. Despite the hype, \n",
    "it also raises ethical concerns and challenges related to job displacement \n",
    "and decision-making transparency. Governments and organizations must \n",
    "address these issues to ensure responsible AI development.\n",
    "\"\"\"\n",
    "\n",
    "# Extractive Summarization\n",
    "def extractive_summary(text, num_sentences=2):\n",
    "    # Tokenize sentences using SpaCy\n",
    "    doc = nlp(text)\n",
    "    sentences = [sent.text.strip() for sent in doc.sents]  # Stripping whitespace\n",
    "\n",
    "    # Use TF-IDF to rank sentences\n",
    "    vectorizer = TfidfVectorizer(stop_words='english')\n",
    "    tfidf_matrix = vectorizer.fit_transform(sentences)\n",
    "    sentence_scores = tfidf_matrix.sum(axis=1).A1  # Convert sparse matrix to flat array\n",
    "\n",
    "    # Sort and select top-ranked sentences\n",
    "    ranked_indices = np.argsort(-sentence_scores)[:num_sentences]\n",
    "    ranked_sentences = [sentences[i] for i in ranked_indices]\n",
    "    return ' '.join(ranked_sentences)\n",
    "\n",
    "# Abstractive Summarization\n",
    "def abstractive_summary(text):\n",
    "    summarizer = pipeline(\"summarization\", model=\"facebook/bart-large-cnn\")\n",
    "    summary = summarizer(text, max_length=50, min_length=25, do_sample=False)\n",
    "    return summary[0]['summary_text']\n",
    "\n",
    "# User interaction\n",
    "print(\"Original Text:\")\n",
    "print(sample_text)\n",
    "print(\"\\nExtractive Summary (Using TF-IDF and SpaCy):\")\n",
    "print(extractive_summary(sample_text))\n",
    "\n",
    "print(\"\\nAbstractive Summary (Using BART):\")\n",
    "print(abstractive_summary(sample_text))\n"
   ]
  }
 ],
 "metadata": {
  "kernelspec": {
   "display_name": "Python 3",
   "language": "python",
   "name": "python3"
  },
  "language_info": {
   "codemirror_mode": {
    "name": "ipython",
    "version": 3
   },
   "file_extension": ".py",
   "mimetype": "text/x-python",
   "name": "python",
   "nbconvert_exporter": "python",
   "pygments_lexer": "ipython3",
   "version": "3.12.3"
  }
 },
 "nbformat": 4,
 "nbformat_minor": 2
}
